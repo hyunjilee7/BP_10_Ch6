{
  "cells": [
    {
      "cell_type": "markdown",
      "metadata": {
        "id": "view-in-github",
        "colab_type": "text"
      },
      "source": [
        "<a href=\"https://colab.research.google.com/github/hyunjilee7/BP_10_Ch6/blob/main/Colaboratory%EC%97%90_%EC%98%A4%EC%8B%A0_%EA%B2%83%EC%9D%84_%ED%99%98%EC%98%81%ED%95%A9%EB%8B%88%EB%8B%A4.ipynb\" target=\"_parent\"><img src=\"https://colab.research.google.com/assets/colab-badge.svg\" alt=\"Open In Colab\"/></a>"
      ]
    },
    {
      "cell_type": "code",
      "source": [
        "for i in range(2,101):\n",
        "  if i%2==0:\n",
        "    print(i,end=\" \")"
      ],
      "metadata": {
        "id": "Do2-AANyJDYH",
        "outputId": "a0b3d76e-9cbb-4b5f-f049-5ab75cb760ab",
        "colab": {
          "base_uri": "https://localhost:8080/"
        }
      },
      "execution_count": 22,
      "outputs": [
        {
          "output_type": "stream",
          "name": "stdout",
          "text": [
            "2 4 6 8 10 12 14 16 18 20 22 24 26 28 30 32 34 36 38 40 42 44 46 48 50 52 54 56 58 60 62 64 66 68 70 72 74 76 78 80 82 84 86 88 90 92 94 96 98 100 "
          ]
        }
      ]
    },
    {
      "cell_type": "code",
      "source": [
        "year=0\n",
        "balance=1000\n",
        "while balance<=2000:\n",
        "  year=year+1\n",
        "  interest=balance*0.07\n",
        "  balance=balance+interest\n",
        "  print(year,\"년이 걸립니다. \")"
      ],
      "metadata": {
        "id": "zosiErXaJjpP",
        "outputId": "3a69e911-9e02-4ac8-fa3e-c13e8a57e61d",
        "colab": {
          "base_uri": "https://localhost:8080/"
        }
      },
      "execution_count": 24,
      "outputs": [
        {
          "output_type": "stream",
          "name": "stdout",
          "text": [
            "1 년이 걸립니다. \n",
            "2 년이 걸립니다. \n",
            "3 년이 걸립니다. \n",
            "4 년이 걸립니다. \n",
            "5 년이 걸립니다. \n",
            "6 년이 걸립니다. \n",
            "7 년이 걸립니다. \n",
            "8 년이 걸립니다. \n",
            "9 년이 걸립니다. \n",
            "10 년이 걸립니다. \n",
            "11 년이 걸립니다. \n"
          ]
        }
      ]
    },
    {
      "cell_type": "code",
      "source": [
        "n=1234\n",
        "sum=0\n",
        "while n>0:\n",
        "  digit=n%10\n",
        "  sum=sum+digit\n",
        "  n=n//10\n",
        "  print(sum)"
      ],
      "metadata": {
        "id": "GiFKR25gKffP",
        "outputId": "26bb621e-d64c-401b-80b9-37a83e3fa668",
        "colab": {
          "base_uri": "https://localhost:8080/"
        }
      },
      "execution_count": 28,
      "outputs": [
        {
          "output_type": "stream",
          "name": "stdout",
          "text": [
            "4\n",
            "7\n",
            "9\n",
            "10\n"
          ]
        }
      ]
    },
    {
      "cell_type": "code",
      "source": [
        "ans=0\n",
        "while ans!=3*9:\n",
        "  ans=int(input(\"3*9는\"))\n",
        "print(\"맞았습니다.\")"
      ],
      "metadata": {
        "id": "peO1f9rmLLbB",
        "outputId": "872d7161-f8bf-44a2-c426-a45ef82103a1",
        "colab": {
          "base_uri": "https://localhost:8080/"
        }
      },
      "execution_count": 31,
      "outputs": [
        {
          "output_type": "stream",
          "name": "stdout",
          "text": [
            "3*9는25\n",
            "3*9는27\n",
            "맞았습니다.\n"
          ]
        }
      ]
    },
    {
      "cell_type": "code",
      "source": [
        "sum = 0\n",
        "while True:\n",
        " x = int(input(\"정수를 입력하시오: \"))\n",
        " if x == 0:\n",
        "   break;\n",
        " sum = sum + x\n",
        "print(\"합은 \", sum, \"입니다.\")"
      ],
      "metadata": {
        "id": "7BTP5KCHLoQH",
        "outputId": "b755bc44-21e5-42b8-85aa-f0db386b9169",
        "colab": {
          "base_uri": "https://localhost:8080/"
        }
      },
      "execution_count": 33,
      "outputs": [
        {
          "output_type": "stream",
          "name": "stdout",
          "text": [
            "정수를 입력하시오: 1\n",
            "정수를 입력하시오: 2\n",
            "정수를 입력하시오: 3\n",
            "정수를 입력하시오: 4\n",
            "정수를 입력하시오: 5\n",
            "정수를 입력하시오: 6\n",
            "정수를 입력하시오: 7\n",
            "정수를 입력하시오: 8\n",
            "정수를 입력하시오: 9\n",
            "정수를 입력하시오: 10\n",
            "정수를 입력하시오: 0\n",
            "합은  55 입니다.\n"
          ]
        }
      ]
    },
    {
      "cell_type": "code",
      "source": [
        "from random import randint\n",
        "for i in range(3) :\n",
        " d1 = randint(1, 6)\n",
        " d2 = randint(1, 6)\n",
        " print(\"첫번째 주사위=\", d1, \"두번째 주사위=\", d2)"
      ],
      "metadata": {
        "id": "m6CIX8bRL59n",
        "outputId": "18ab4aa2-e870-40ce-c2da-2f7c04bc8385",
        "colab": {
          "base_uri": "https://localhost:8080/"
        }
      },
      "execution_count": 34,
      "outputs": [
        {
          "output_type": "stream",
          "name": "stdout",
          "text": [
            "첫번째 주사위= 3 두번째 주사위= 1\n",
            "첫번째 주사위= 4 두번째 주사위= 5\n",
            "첫번째 주사위= 4 두번째 주사위= 1\n"
          ]
        }
      ]
    }
  ],
  "metadata": {
    "colab": {
      "collapsed_sections": [],
      "name": "Colaboratory에 오신 것을 환영합니다",
      "toc_visible": true,
      "provenance": [],
      "include_colab_link": true
    },
    "kernelspec": {
      "display_name": "Python 3",
      "name": "python3"
    }
  },
  "nbformat": 4,
  "nbformat_minor": 0
}